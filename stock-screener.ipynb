{
 "cells": [
  {
   "cell_type": "code",
   "execution_count": 14,
   "id": "e7302205-8a54-4a6d-b983-57f118aa4a99",
   "metadata": {},
   "outputs": [],
   "source": [
    "import pandas as pd\n",
    "import yfinance\n",
    "from mpl_finance import candlestick_ohlc\n",
    "import matplotlib.pyplot as plt\n",
    "plt.rcParams['figure.figsize'] = [12, 7]\n",
    "plt.rc('font', size=14)"
   ]
  },
  {
   "cell_type": "code",
   "execution_count": 15,
   "id": "7438fadc-f255-464e-bce9-a0c428fba2e6",
   "metadata": {},
   "outputs": [],
   "source": [
    "import yfinance as yf"
   ]
  },
  {
   "cell_type": "code",
   "execution_count": 16,
   "id": "013079a0-9f2c-49ed-954a-f078afdb125a",
   "metadata": {},
   "outputs": [
    {
     "data": {
      "text/html": [
       "<div>\n",
       "<style scoped>\n",
       "    .dataframe tbody tr th:only-of-type {\n",
       "        vertical-align: middle;\n",
       "    }\n",
       "\n",
       "    .dataframe tbody tr th {\n",
       "        vertical-align: top;\n",
       "    }\n",
       "\n",
       "    .dataframe thead th {\n",
       "        text-align: right;\n",
       "    }\n",
       "</style>\n",
       "<table border=\"1\" class=\"dataframe\">\n",
       "  <thead>\n",
       "    <tr style=\"text-align: right;\">\n",
       "      <th></th>\n",
       "      <th>NASDAQ</th>\n",
       "    </tr>\n",
       "  </thead>\n",
       "  <tbody>\n",
       "    <tr>\n",
       "      <th>0</th>\n",
       "      <td>AACG</td>\n",
       "    </tr>\n",
       "    <tr>\n",
       "      <th>1</th>\n",
       "      <td>AACQ</td>\n",
       "    </tr>\n",
       "    <tr>\n",
       "      <th>2</th>\n",
       "      <td>AACQU</td>\n",
       "    </tr>\n",
       "    <tr>\n",
       "      <th>3</th>\n",
       "      <td>AACQW</td>\n",
       "    </tr>\n",
       "  </tbody>\n",
       "</table>\n",
       "</div>"
      ],
      "text/plain": [
       "  NASDAQ\n",
       "0   AACG\n",
       "1   AACQ\n",
       "2  AACQU\n",
       "3  AACQW"
      ]
     },
     "execution_count": 16,
     "metadata": {},
     "output_type": "execute_result"
    }
   ],
   "source": [
    "df = pd.read_csv('tickers.csv')\n",
    "df"
   ]
  },
  {
   "cell_type": "code",
   "execution_count": 17,
   "id": "f7a612d1-2b9b-4a75-99b7-c9e27c1ace66",
   "metadata": {},
   "outputs": [],
   "source": [
    "def plot_chart(df):\n",
    "    fig, ax = plt.subplots()\n",
    "    candlestick_ohlc(ax,df.values,width=0.6, \n",
    "                   colorup='green', colordown='red', alpha=1)\n",
    "    fig.tight_layout()\n",
    "    fig.show()"
   ]
  },
  {
   "cell_type": "code",
   "execution_count": 18,
   "id": "913cc9ed-541e-47ce-ad29-c6bec6736563",
   "metadata": {},
   "outputs": [],
   "source": [
    "def get_stock_data(symbol):\n",
    "    ticker = yfinance.Ticker(symbol)\n",
    "    df = ticker.history(interval=\"1d\",start=\"2023-01-01\")\n",
    "    df['Date'] = range(df.shape[0])\n",
    "    df = df.loc[:,['Date', 'Open', 'High', 'Low', 'Close']]\n",
    "    return df\n",
    "\n",
    "\n",
    "\n",
    "def get_heikinashi_data(stock_data):\n",
    "    df_ha = stock_data.copy()\n",
    "    for i in range(df_ha.shape[0]):\n",
    "        if i == 0:\n",
    "            df_ha.loc[df_ha.index[i],'Open'] = (df['Open'][i] + df['Close'][i])/2\n",
    "\n",
    "        else: \n",
    "            df_ha.loc[df_ha.index[i],'Open'] = (df_ha['Open'][i-1] + df_ha['Close'][i-1])/2\n",
    "\n",
    "        df_ha.loc[df_ha.index[i],'Close'] = (df['Open'][i] + df['Close'][i] + df['Low'][i] +  df['High'][i])/4\n",
    "        df_ha.loc[df_ha.index[i],'High'] = max([df['High'][i] , df_ha['Open'][i] , df_ha['Close'][i]])\n",
    "        df_ha.loc[df_ha.index[i],'Low'] = min([df['Low'][i] , df_ha['Open'][i] , df_ha['Close'][i]])\n",
    "        \n",
    "    return df_ha"
   ]
  },
  {
   "cell_type": "code",
   "execution_count": 19,
   "id": "017b098b-5230-4bfe-bb6d-e606c370b70c",
   "metadata": {},
   "outputs": [],
   "source": [
    "# for sym in df['NASDAQ']:\n",
    "    # print(sym)\n",
    "df = get_stock_data('INFY.NS')\n"
   ]
  },
  {
   "cell_type": "code",
   "execution_count": 20,
   "id": "f4ff53fe-f396-4333-ba3d-59938d81a0f8",
   "metadata": {},
   "outputs": [
    {
     "name": "stderr",
     "output_type": "stream",
     "text": [
      "C:\\Users\\Mayur\\AppData\\Local\\Temp\\ipykernel_21136\\3270876252.py:6: UserWarning: Matplotlib is currently using module://matplotlib_inline.backend_inline, which is a non-GUI backend, so cannot show the figure.\n",
      "  fig.show()\n"
     ]
    },
    {
     "data": {
      "image/png": "[encoded data removed]",
      "text/plain": [
       "<Figure size 864x504 with 1 Axes>"
      ]
     },
     "metadata": {
      "needs_background": "light"
     },
     "output_type": "display_data"
    }
   ],
   "source": [
    "ha_df = get_heikinashi_data(df)\n",
    "plot_chart(ha_df)"
   ]
  },
  {
   "cell_type": "code",
   "execution_count": null,
   "id": "e7c5fe8a-398b-4c1e-b5f9-10c4c0dff2f2",
   "metadata": {},
   "outputs": [],
   "source": [
    "# name = 'INFY.NS'\n",
    "# ticker = yfinance.Ticker(name)\n",
    "# df = ticker.history(interval=\"5d\",start=\"2023-01-01\")\n",
    "# df['Date'] = range(df.shape[0])\n",
    "# df = df.loc[:,['Date', 'Open', 'High', 'Low', 'Close']]\n",
    "\n",
    "\n",
    "\n",
    "# df_ha = df.copy()\n",
    "\n",
    "\n",
    "# for i in range(df_ha.shape[0]):\n",
    "#     if i == 0:\n",
    "#         df_ha.loc[df_ha.index[i],'Open'] = (df['Open'][i] + df['Close'][i])/2\n",
    "        \n",
    "#     else: \n",
    "#         df_ha.loc[df_ha.index[i],'Open'] = (df_ha['Open'][i-1] + df_ha['Close'][i-1])/2\n",
    "  \n",
    "#     df_ha.loc[df_ha.index[i],'Close'] = (df['Open'][i] + df['Close'][i] + df['Low'][i] +  df['High'][i])/4\n",
    "#     df_ha.loc[df_ha.index[i],'High'] = max([df['High'][i] , df_ha['Open'][i] , df_ha['Close'][i]])\n",
    "#     df_ha.loc[df_ha.index[i],'Low'] = min([df['Low'][i] , df_ha['Open'][i] , df_ha['Close'][i]])\n",
    "    \n",
    "# df_ha = df_ha.iloc[1:,:]"
   ]
  },
  {
   "cell_type": "code",
   "execution_count": 22,
   "id": "2b633d1f-564e-4964-b0be-603807692d3e",
   "metadata": {},
   "outputs": [
    {
     "data": {
      "text/html": [
       "<div>\n",
       "<style scoped>\n",
       "    .dataframe tbody tr th:only-of-type {\n",
       "        vertical-align: middle;\n",
       "    }\n",
       "\n",
       "    .dataframe tbody tr th {\n",
       "        vertical-align: top;\n",
       "    }\n",
       "\n",
       "    .dataframe thead th {\n",
       "        text-align: right;\n",
       "    }\n",
       "</style>\n",
       "<table border=\"1\" class=\"dataframe\">\n",
       "  <thead>\n",
       "    <tr style=\"text-align: right;\">\n",
       "      <th></th>\n",
       "      <th>Date</th>\n",
       "      <th>Open</th>\n",
       "      <th>High</th>\n",
       "      <th>Low</th>\n",
       "      <th>Close</th>\n",
       "    </tr>\n",
       "    <tr>\n",
       "      <th>Date</th>\n",
       "      <th></th>\n",
       "      <th></th>\n",
       "      <th></th>\n",
       "      <th></th>\n",
       "      <th></th>\n",
       "    </tr>\n",
       "  </thead>\n",
       "  <tbody>\n",
       "    <tr>\n",
       "      <th>2023-05-02 00:00:00+05:30</th>\n",
       "      <td>79</td>\n",
       "      <td>1242.859306</td>\n",
       "      <td>1279.750000</td>\n",
       "      <td>1242.859306</td>\n",
       "      <td>1266.575012</td>\n",
       "    </tr>\n",
       "    <tr>\n",
       "      <th>2023-05-03 00:00:00+05:30</th>\n",
       "      <td>80</td>\n",
       "      <td>1254.717159</td>\n",
       "      <td>1272.500000</td>\n",
       "      <td>1254.717159</td>\n",
       "      <td>1267.437500</td>\n",
       "    </tr>\n",
       "    <tr>\n",
       "      <th>2023-05-04 00:00:00+05:30</th>\n",
       "      <td>81</td>\n",
       "      <td>1261.077330</td>\n",
       "      <td>1275.800049</td>\n",
       "      <td>1261.077330</td>\n",
       "      <td>1270.200012</td>\n",
       "    </tr>\n",
       "  </tbody>\n",
       "</table>\n",
       "</div>"
      ],
      "text/plain": [
       "                           Date         Open         High          Low  \\\n",
       "Date                                                                     \n",
       "2023-05-02 00:00:00+05:30    79  1242.859306  1279.750000  1242.859306   \n",
       "2023-05-03 00:00:00+05:30    80  1254.717159  1272.500000  1254.717159   \n",
       "2023-05-04 00:00:00+05:30    81  1261.077330  1275.800049  1261.077330   \n",
       "\n",
       "                                 Close  \n",
       "Date                                    \n",
       "2023-05-02 00:00:00+05:30  1266.575012  \n",
       "2023-05-03 00:00:00+05:30  1267.437500  \n",
       "2023-05-04 00:00:00+05:30  1270.200012  "
      ]
     },
     "execution_count": 22,
     "metadata": {},
     "output_type": "execute_result"
    }
   ],
   "source": [
    "ha_df[-3:]"
   ]
  },
  {
   "cell_type": "code",
   "execution_count": null,
   "id": "0bc40dfc-d572-4585-acbe-d46e6064b27e",
   "metadata": {},
   "outputs": [],
   "source": []
  }
 ],
 "metadata": {
  "kernelspec": {
   "display_name": "Python 3 (ipykernel)",
   "language": "python",
   "name": "python3"
  },
  "language_info": {
   "codemirror_mode": {
    "name": "ipython",
    "version": 3
   },
   "file_extension": ".py",
   "mimetype": "text/x-python",
   "name": "python",
   "nbconvert_exporter": "python",
   "pygments_lexer": "ipython3",
   "version": "3.9.6"
  }
 },
 "nbformat": 4,
 "nbformat_minor": 5
}
